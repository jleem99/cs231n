{
 "cells": [
  {
   "cell_type": "code",
   "execution_count": 1,
   "id": "149d5b7e",
   "metadata": {
    "ExecuteTime": {
     "end_time": "2024-03-14T07:45:30.952763Z",
     "start_time": "2024-03-14T07:45:30.762368Z"
    }
   },
   "outputs": [
    {
     "name": "stdout",
     "output_type": "stream",
     "text": [
      "/Users/jleem/Gaebal/@AI/cs231n/assignments/assignment1/cs231n/datasets\n",
      "/Users/jleem/Gaebal/@AI/cs231n/assignments/assignment1\n",
      "popd -> ~/Gaebal/@AI/cs231n/assignments/assignment1\n"
     ]
    }
   ],
   "source": [
    "%pushd cs231n/datasets\n",
    "!   bash get_datasets.sh\n",
    "%popd"
   ]
  },
  {
   "cell_type": "markdown",
   "id": "5fdfc27e",
   "metadata": {
    "tags": [
     "pdf-title"
    ]
   },
   "source": [
    "# Softmax exercise\n",
    "\n",
    "*Complete and hand in this completed worksheet (including its outputs and any supporting code outside of the worksheet) with your assignment submission. For more details see the [assignments page](http://vision.stanford.edu/teaching/cs231n/assignments.html) on the course website.*\n",
    "\n",
    "This exercise is analogous to the SVM exercise. You will:\n",
    "\n",
    "- implement a fully-vectorized **loss function** for the Softmax classifier\n",
    "- implement the fully-vectorized expression for its **analytic gradient**\n",
    "- **check your implementation** with numerical gradient\n",
    "- use a validation set to **tune the learning rate and regularization** strength\n",
    "- **optimize** the loss function with **SGD**\n",
    "- **visualize** the final learned weights\n"
   ]
  },
  {
   "cell_type": "code",
   "execution_count": 2,
   "id": "ca6cf2d4",
   "metadata": {
    "tags": [
     "pdf-ignore"
    ],
    "ExecuteTime": {
     "end_time": "2024-03-14T07:46:07.312197Z",
     "start_time": "2024-03-14T07:46:03.543954Z"
    }
   },
   "outputs": [],
   "source": [
    "import random\n",
    "import numpy as np\n",
    "from cs231n.data_utils import load_CIFAR10\n",
    "import matplotlib.pyplot as plt\n",
    "\n",
    "%matplotlib inline\n",
    "plt.rcParams['figure.figsize'] = (10.0, 8.0) # set default size of plots\n",
    "plt.rcParams['image.interpolation'] = 'nearest'\n",
    "plt.rcParams['image.cmap'] = 'gray'\n",
    "\n",
    "# for auto-reloading extenrnal modules\n",
    "# see http://stackoverflow.com/questions/1907993/autoreload-of-modules-in-ipython\n",
    "%load_ext autoreload\n",
    "%autoreload 2"
   ]
  },
  {
   "cell_type": "code",
   "execution_count": 3,
   "id": "9e9bbbbe",
   "metadata": {
    "tags": [
     "pdf-ignore"
    ],
    "ExecuteTime": {
     "end_time": "2024-03-14T07:46:14.369784Z",
     "start_time": "2024-03-14T07:46:09.223077Z"
    }
   },
   "outputs": [
    {
     "name": "stdout",
     "output_type": "stream",
     "text": [
      "Train data shape:  (49000, 3073)\n",
      "Train labels shape:  (49000,)\n",
      "Validation data shape:  (1000, 3073)\n",
      "Validation labels shape:  (1000,)\n",
      "Test data shape:  (1000, 3073)\n",
      "Test labels shape:  (1000,)\n",
      "dev data shape:  (500, 3073)\n",
      "dev labels shape:  (500,)\n"
     ]
    }
   ],
   "source": [
    "def get_CIFAR10_data(num_training=49000, num_validation=1000, num_test=1000, num_dev=500):\n",
    "    \"\"\"\n",
    "    Load the CIFAR-10 dataset from disk and perform preprocessing to prepare\n",
    "    it for the linear classifier. These are the same steps as we used for the\n",
    "    SVM, but condensed to a single function.  \n",
    "    \"\"\"\n",
    "    # Load the raw CIFAR-10 data\n",
    "    cifar10_dir = 'cs231n/datasets/cifar-10-batches-py'\n",
    "    \n",
    "    # Cleaning up variables to prevent loading data multiple times (which may cause memory issue)\n",
    "    try:\n",
    "       del X_train, y_train\n",
    "       del X_test, y_test\n",
    "       print('Clear previously loaded data.')\n",
    "    except:\n",
    "       pass\n",
    "\n",
    "    X_train, y_train, X_test, y_test = load_CIFAR10(cifar10_dir)\n",
    "    \n",
    "    # subsample the data\n",
    "    mask = list(range(num_training, num_training + num_validation))\n",
    "    X_val = X_train[mask]\n",
    "    y_val = y_train[mask]\n",
    "    mask = list(range(num_training))\n",
    "    X_train = X_train[mask]\n",
    "    y_train = y_train[mask]\n",
    "    mask = list(range(num_test))\n",
    "    X_test = X_test[mask]\n",
    "    y_test = y_test[mask]\n",
    "    mask = np.random.choice(num_training, num_dev, replace=False)\n",
    "    X_dev = X_train[mask]\n",
    "    y_dev = y_train[mask]\n",
    "    \n",
    "    # Preprocessing: reshape the image data into rows\n",
    "    X_train = np.reshape(X_train, (X_train.shape[0], -1))\n",
    "    X_val = np.reshape(X_val, (X_val.shape[0], -1))\n",
    "    X_test = np.reshape(X_test, (X_test.shape[0], -1))\n",
    "    X_dev = np.reshape(X_dev, (X_dev.shape[0], -1))\n",
    "    \n",
    "    # Normalize the data: subtract the mean image\n",
    "    mean_image = np.mean(X_train, axis = 0)\n",
    "    X_train -= mean_image\n",
    "    X_val -= mean_image\n",
    "    X_test -= mean_image\n",
    "    X_dev -= mean_image\n",
    "    \n",
    "    # add bias dimension and transform into columns\n",
    "    X_train = np.hstack([X_train, np.ones((X_train.shape[0], 1))])\n",
    "    X_val = np.hstack([X_val, np.ones((X_val.shape[0], 1))])\n",
    "    X_test = np.hstack([X_test, np.ones((X_test.shape[0], 1))])\n",
    "    X_dev = np.hstack([X_dev, np.ones((X_dev.shape[0], 1))])\n",
    "    \n",
    "    return X_train, y_train, X_val, y_val, X_test, y_test, X_dev, y_dev\n",
    "\n",
    "\n",
    "# Invoke the above function to get our data.\n",
    "X_train, y_train, X_val, y_val, X_test, y_test, X_dev, y_dev = get_CIFAR10_data()\n",
    "print('Train data shape: ', X_train.shape)\n",
    "print('Train labels shape: ', y_train.shape)\n",
    "print('Validation data shape: ', X_val.shape)\n",
    "print('Validation labels shape: ', y_val.shape)\n",
    "print('Test data shape: ', X_test.shape)\n",
    "print('Test labels shape: ', y_test.shape)\n",
    "print('dev data shape: ', X_dev.shape)\n",
    "print('dev labels shape: ', y_dev.shape)"
   ]
  },
  {
   "cell_type": "markdown",
   "id": "d4c3fb04",
   "metadata": {},
   "source": [
    "## Softmax Classifier\n",
    "\n",
    "Your code for this section will all be written inside `cs231n/classifiers/softmax.py`.\n"
   ]
  },
  {
   "cell_type": "code",
   "execution_count": 16,
   "id": "25f2e5e1",
   "metadata": {
    "ExecuteTime": {
     "end_time": "2024-03-14T08:25:24.436701Z",
     "start_time": "2024-03-14T08:25:24.405674Z"
    }
   },
   "outputs": [
    {
     "name": "stdout",
     "output_type": "stream",
     "text": [
      "loss: 2.360846\n",
      "sanity check: 2.302585\n"
     ]
    }
   ],
   "source": [
    "# First implement the naive softmax loss function with nested loops.\n",
    "# Open the file cs231n/classifiers/softmax.py and implement the\n",
    "# softmax_loss_naive function.\n",
    "\n",
    "from cs231n.classifiers.softmax import softmax_loss_naive\n",
    "import time\n",
    "\n",
    "# Generate a random softmax weight matrix and use it to compute the loss.\n",
    "W = np.random.randn(3073, 10) * 0.0001\n",
    "loss, grad = softmax_loss_naive(W, X_dev, y_dev, 0.0)\n",
    "\n",
    "# As a rough sanity check, our loss should be something close to -log(0.1).\n",
    "print('loss: %f' % loss)\n",
    "print('sanity check: %f' % (-np.log(0.1)))"
   ]
  },
  {
   "cell_type": "markdown",
   "id": "15ebc638",
   "metadata": {
    "tags": [
     "pdf-inline"
    ]
   },
   "source": [
    "**Inline Question 1**\n",
    "\n",
    "Why do we expect our loss to be close to -log(0.1)? Explain briefly.**\n",
    "\n",
    "$\\color{blue}{\\textit Your Answer:}$ *Fill this in* \n",
    "\n",
    "\n",
    "$\n",
    "\\begin{gather}\n",
    "\\text{(scores)} = \\mathbf{X}\\mathbf{W} = \\mathbf{X}\\mathbf{0} = \\mathbf{0}\n",
    "\\\\\n",
    "\\text{Cross Entropy (}\\L_i\\text{)} = -\\log{\\frac{e^0}{\\sum^{10}_{i=1}{e^0}} = -\\log(0.1)\n",
    "\\end{gather}\n",
    "$"
   ]
  },
  {
   "cell_type": "code",
   "execution_count": 25,
   "id": "a8cb3eb1",
   "metadata": {
    "ExecuteTime": {
     "end_time": "2024-03-14T12:14:25.562391Z",
     "start_time": "2024-03-14T12:14:24.652731Z"
    }
   },
   "outputs": [
    {
     "name": "stdout",
     "output_type": "stream",
     "text": [
      "numerical: 3.252532 analytic: 3.252532, relative error: 5.043520e-09\n",
      "numerical: -3.310826 analytic: -3.310826, relative error: 3.405246e-10\n",
      "numerical: -1.520439 analytic: -1.520439, relative error: 8.878258e-09\n",
      "numerical: -1.126350 analytic: -1.126350, relative error: 2.665551e-09\n",
      "numerical: -0.738831 analytic: -0.738832, relative error: 2.573269e-08\n",
      "numerical: 1.198649 analytic: 1.198649, relative error: 1.351985e-08\n",
      "numerical: 0.192099 analytic: 0.192099, relative error: 2.529278e-07\n",
      "numerical: 0.895681 analytic: 0.895681, relative error: 5.560768e-08\n",
      "numerical: -0.540189 analytic: -0.540189, relative error: 3.591684e-09\n",
      "numerical: -2.868438 analytic: -2.868438, relative error: 1.322278e-08\n",
      "numerical: 1.199052 analytic: 1.199051, relative error: 5.227470e-08\n",
      "numerical: 1.373048 analytic: 1.373047, relative error: 4.454949e-08\n",
      "numerical: -1.103573 analytic: -1.103573, relative error: 1.306530e-08\n",
      "numerical: -1.191635 analytic: -1.191635, relative error: 2.508125e-08\n",
      "numerical: -1.521063 analytic: -1.521063, relative error: 4.744150e-09\n",
      "numerical: -2.185306 analytic: -2.185306, relative error: 1.039464e-08\n",
      "numerical: 1.392966 analytic: 1.392965, relative error: 7.510718e-08\n",
      "numerical: 2.255030 analytic: 2.255030, relative error: 3.479572e-08\n",
      "numerical: -4.791193 analytic: -4.791193, relative error: 3.115706e-09\n",
      "numerical: -2.703203 analytic: -2.703203, relative error: 1.011070e-08\n"
     ]
    }
   ],
   "source": [
    "# Complete the implementation of softmax_loss_naive and implement a (naive)\n",
    "# version of the gradient that uses nested loops.\n",
    "loss, grad = softmax_loss_naive(W, X_dev, y_dev, 0.0)\n",
    "\n",
    "# As we did for the SVM, use numeric gradient checking as a debugging tool.\n",
    "# The numeric gradient should be close to the analytic gradient.\n",
    "from cs231n.gradient_check import grad_check_sparse\n",
    "f = lambda w: softmax_loss_naive(w, X_dev, y_dev, 0.0)[0]\n",
    "grad_numerical = grad_check_sparse(f, W, grad, 10)\n",
    "\n",
    "# similar to SVM case, do another gradient check with regularization\n",
    "loss, grad = softmax_loss_naive(W, X_dev, y_dev, 5e1)\n",
    "f = lambda w: softmax_loss_naive(w, X_dev, y_dev, 5e1)[0]\n",
    "grad_numerical = grad_check_sparse(f, W, grad, 10)"
   ]
  },
  {
   "cell_type": "code",
   "execution_count": 37,
   "id": "4a4a81d4",
   "metadata": {
    "ExecuteTime": {
     "end_time": "2024-03-14T12:40:22.979880Z",
     "start_time": "2024-03-14T12:40:22.887447Z"
    }
   },
   "outputs": [
    {
     "name": "stdout",
     "output_type": "stream",
     "text": [
      "naive loss: 2.360846e+00 computed in 0.041943s\n",
      "vectorized loss: 2.360846e+00 computed in 0.027128s\n",
      "Loss difference: 0.000000\n",
      "Gradient difference: 0.000000\n"
     ]
    }
   ],
   "source": [
    "# Now that we have a naive implementation of the softmax loss function and its gradient,\n",
    "# implement a vectorized version in softmax_loss_vectorized.\n",
    "# The two versions should compute the same results, but the vectorized version should be\n",
    "# much faster.\n",
    "tic = time.time()\n",
    "loss_naive, grad_naive = softmax_loss_naive(W, X_dev, y_dev, 0.000005)\n",
    "toc = time.time()\n",
    "print('naive loss: %e computed in %fs' % (loss_naive, toc - tic))\n",
    "\n",
    "from cs231n.classifiers.softmax import softmax_loss_vectorized\n",
    "tic = time.time()\n",
    "loss_vectorized, grad_vectorized = softmax_loss_vectorized(W, X_dev, y_dev, 0.000005)\n",
    "toc = time.time()\n",
    "print('vectorized loss: %e computed in %fs' % (loss_vectorized, toc - tic))\n",
    "\n",
    "# As we did for the SVM, we use the Frobenius norm to compare the two versions\n",
    "# of the gradient.\n",
    "grad_difference = np.linalg.norm(grad_naive - grad_vectorized, ord='fro')\n",
    "print('Loss difference: %f' % np.abs(loss_naive - loss_vectorized))\n",
    "print('Gradient difference: %f' % grad_difference)"
   ]
  },
  {
   "cell_type": "code",
   "execution_count": 55,
   "id": "e19f1eccb9239e88",
   "metadata": {
    "collapsed": false,
    "ExecuteTime": {
     "end_time": "2024-03-14T13:19:22.165980Z",
     "start_time": "2024-03-14T13:17:14.561991Z"
    }
   },
   "outputs": [
    {
     "name": "stdout",
     "output_type": "stream",
     "text": [
      "Training with learning_rate=1.000000e-06, regularization_strength=2.500000e+02\n",
      "\t👉 Train accuracy: 0.2968, Validation accuracy: 0.2960\n",
      "Training with learning_rate=1.000000e-06, regularization_strength=7.513326e+02\n",
      "\t👉 Train accuracy: 0.2987, Validation accuracy: 0.3070\n",
      "Training with learning_rate=1.000000e-06, regularization_strength=2.258003e+03\n",
      "\t👉 Train accuracy: 0.2921, Validation accuracy: 0.2710\n",
      "Training with learning_rate=1.000000e-06, regularization_strength=6.786044e+03\n",
      "\t👉 Train accuracy: 0.2915, Validation accuracy: 0.3090\n",
      "Training with learning_rate=1.000000e-06, regularization_strength=2.039430e+04\n",
      "\t👉 Train accuracy: 0.2939, Validation accuracy: 0.2880\n",
      "Training with learning_rate=1.000000e-06, regularization_strength=6.129162e+04\n",
      "\t👉 Train accuracy: 0.2967, Validation accuracy: 0.2960\n",
      "Training with learning_rate=1.000000e-06, regularization_strength=1.842016e+05\n",
      "\t👉 Train accuracy: 0.3028, Validation accuracy: 0.3120\n",
      "Training with learning_rate=1.000000e-06, regularization_strength=5.535866e+05\n",
      "\t👉 Train accuracy: 0.2987, Validation accuracy: 0.2960\n",
      "Training with learning_rate=1.000000e-06, regularization_strength=1.663711e+06\n",
      "\t👉 Train accuracy: 0.2996, Validation accuracy: 0.3030\n",
      "Training with learning_rate=1.000000e-06, regularization_strength=5.000000e+06\n",
      "\t👉 Train accuracy: 0.3021, Validation accuracy: 0.3020\n",
      "Training with learning_rate=1.994737e-06, regularization_strength=2.500000e+02\n",
      "\t👉 Train accuracy: 0.3282, Validation accuracy: 0.3150\n",
      "Training with learning_rate=1.994737e-06, regularization_strength=7.513326e+02\n",
      "\t👉 Train accuracy: 0.3306, Validation accuracy: 0.3340\n",
      "Training with learning_rate=1.994737e-06, regularization_strength=2.258003e+03\n",
      "\t👉 Train accuracy: 0.3281, Validation accuracy: 0.3220\n",
      "Training with learning_rate=1.994737e-06, regularization_strength=6.786044e+03\n",
      "\t👉 Train accuracy: 0.3298, Validation accuracy: 0.3200\n",
      "Training with learning_rate=1.994737e-06, regularization_strength=2.039430e+04\n",
      "\t👉 Train accuracy: 0.3290, Validation accuracy: 0.3400\n",
      "Training with learning_rate=1.994737e-06, regularization_strength=6.129162e+04\n",
      "\t👉 Train accuracy: 0.3328, Validation accuracy: 0.3120\n",
      "Training with learning_rate=1.994737e-06, regularization_strength=1.842016e+05\n",
      "\t👉 Train accuracy: 0.3199, Validation accuracy: 0.3200\n",
      "Training with learning_rate=1.994737e-06, regularization_strength=5.535866e+05\n",
      "\t👉 Train accuracy: 0.3352, Validation accuracy: 0.3110\n",
      "Training with learning_rate=1.994737e-06, regularization_strength=1.663711e+06\n",
      "\t👉 Train accuracy: 0.3235, Validation accuracy: 0.3240\n",
      "Training with learning_rate=1.994737e-06, regularization_strength=5.000000e+06\n",
      "\t👉 Train accuracy: 0.3221, Validation accuracy: 0.3110\n",
      "Training with learning_rate=3.978974e-06, regularization_strength=2.500000e+02\n",
      "\t👉 Train accuracy: 0.3500, Validation accuracy: 0.3380\n",
      "Training with learning_rate=3.978974e-06, regularization_strength=7.513326e+02\n",
      "\t👉 Train accuracy: 0.3424, Validation accuracy: 0.3240\n",
      "Training with learning_rate=3.978974e-06, regularization_strength=2.258003e+03\n",
      "\t👉 Train accuracy: 0.3545, Validation accuracy: 0.3460\n",
      "Training with learning_rate=3.978974e-06, regularization_strength=6.786044e+03\n",
      "\t👉 Train accuracy: 0.3449, Validation accuracy: 0.3550\n",
      "Training with learning_rate=3.978974e-06, regularization_strength=2.039430e+04\n",
      "\t👉 Train accuracy: 0.3594, Validation accuracy: 0.3640\n",
      "Training with learning_rate=3.978974e-06, regularization_strength=6.129162e+04\n",
      "\t👉 Train accuracy: 0.3471, Validation accuracy: 0.3250\n",
      "Training with learning_rate=3.978974e-06, regularization_strength=1.842016e+05\n",
      "\t👉 Train accuracy: 0.3548, Validation accuracy: 0.3390\n",
      "Training with learning_rate=3.978974e-06, regularization_strength=5.535866e+05\n",
      "\t👉 Train accuracy: 0.3409, Validation accuracy: 0.3420\n",
      "Training with learning_rate=3.978974e-06, regularization_strength=1.663711e+06\n",
      "\t👉 Train accuracy: 0.3473, Validation accuracy: 0.3150\n",
      "Training with learning_rate=3.978974e-06, regularization_strength=5.000000e+06\n",
      "\t👉 Train accuracy: 0.3451, Validation accuracy: 0.3310\n",
      "Training with learning_rate=7.937005e-06, regularization_strength=2.500000e+02\n",
      "\t👉 Train accuracy: 0.3218, Validation accuracy: 0.3160\n",
      "Training with learning_rate=7.937005e-06, regularization_strength=7.513326e+02\n",
      "\t👉 Train accuracy: 0.3366, Validation accuracy: 0.3320\n",
      "Training with learning_rate=7.937005e-06, regularization_strength=2.258003e+03\n",
      "\t👉 Train accuracy: 0.3062, Validation accuracy: 0.3020\n",
      "Training with learning_rate=7.937005e-06, regularization_strength=6.786044e+03\n",
      "\t👉 Train accuracy: 0.3261, Validation accuracy: 0.3390\n",
      "Training with learning_rate=7.937005e-06, regularization_strength=2.039430e+04\n",
      "\t👉 Train accuracy: 0.3369, Validation accuracy: 0.3030\n",
      "Training with learning_rate=7.937005e-06, regularization_strength=6.129162e+04\n",
      "\t👉 Train accuracy: 0.3503, Validation accuracy: 0.3340\n",
      "Training with learning_rate=7.937005e-06, regularization_strength=1.842016e+05\n",
      "\t👉 Train accuracy: 0.3337, Validation accuracy: 0.3420\n",
      "Training with learning_rate=7.937005e-06, regularization_strength=5.535866e+05\n",
      "\t👉 Train accuracy: 0.3271, Validation accuracy: 0.3410\n",
      "Training with learning_rate=7.937005e-06, regularization_strength=1.663711e+06\n",
      "\t👉 Train accuracy: 0.3177, Validation accuracy: 0.3200\n",
      "Training with learning_rate=7.937005e-06, regularization_strength=5.000000e+06\n",
      "\t👉 Train accuracy: 0.3309, Validation accuracy: 0.3070\n",
      "Training with learning_rate=1.583223e-05, regularization_strength=2.500000e+02\n",
      "\t👉 Train accuracy: 0.2623, Validation accuracy: 0.2500\n",
      "Training with learning_rate=1.583223e-05, regularization_strength=7.513326e+02\n",
      "\t👉 Train accuracy: 0.2814, Validation accuracy: 0.3000\n",
      "Training with learning_rate=1.583223e-05, regularization_strength=2.258003e+03\n",
      "\t👉 Train accuracy: 0.2661, Validation accuracy: 0.2640\n",
      "Training with learning_rate=1.583223e-05, regularization_strength=6.786044e+03\n",
      "\t👉 Train accuracy: 0.3312, Validation accuracy: 0.3120\n",
      "Training with learning_rate=1.583223e-05, regularization_strength=2.039430e+04\n",
      "\t👉 Train accuracy: 0.2705, Validation accuracy: 0.2780\n",
      "Training with learning_rate=1.583223e-05, regularization_strength=6.129162e+04\n",
      "\t👉 Train accuracy: 0.3165, Validation accuracy: 0.3040\n",
      "Training with learning_rate=1.583223e-05, regularization_strength=1.842016e+05\n",
      "\t👉 Train accuracy: 0.2957, Validation accuracy: 0.2960\n",
      "Training with learning_rate=1.583223e-05, regularization_strength=5.535866e+05\n",
      "\t👉 Train accuracy: 0.3207, Validation accuracy: 0.3080\n",
      "Training with learning_rate=1.583223e-05, regularization_strength=1.663711e+06\n",
      "\t👉 Train accuracy: 0.2985, Validation accuracy: 0.3120\n",
      "Training with learning_rate=1.583223e-05, regularization_strength=5.000000e+06\n",
      "\t👉 Train accuracy: 0.2783, Validation accuracy: 0.2880\n",
      "Training with learning_rate=3.158114e-05, regularization_strength=2.500000e+02\n",
      "\t👉 Train accuracy: 0.2545, Validation accuracy: 0.2470\n",
      "Training with learning_rate=3.158114e-05, regularization_strength=7.513326e+02\n",
      "\t👉 Train accuracy: 0.3278, Validation accuracy: 0.3410\n",
      "Training with learning_rate=3.158114e-05, regularization_strength=2.258003e+03\n",
      "\t👉 Train accuracy: 0.3321, Validation accuracy: 0.3270\n",
      "Training with learning_rate=3.158114e-05, regularization_strength=6.786044e+03\n",
      "\t👉 Train accuracy: 0.3121, Validation accuracy: 0.3120\n",
      "Training with learning_rate=3.158114e-05, regularization_strength=2.039430e+04\n",
      "\t👉 Train accuracy: 0.2760, Validation accuracy: 0.2780\n",
      "Training with learning_rate=3.158114e-05, regularization_strength=6.129162e+04\n",
      "\t👉 Train accuracy: 0.3112, Validation accuracy: 0.3190\n",
      "Training with learning_rate=3.158114e-05, regularization_strength=1.842016e+05\n",
      "\t👉 Train accuracy: 0.2823, Validation accuracy: 0.2890\n",
      "Training with learning_rate=3.158114e-05, regularization_strength=5.535866e+05\n",
      "\t👉 Train accuracy: 0.2470, Validation accuracy: 0.2430\n",
      "Training with learning_rate=3.158114e-05, regularization_strength=1.663711e+06\n",
      "\t👉 Train accuracy: 0.2590, Validation accuracy: 0.2520\n",
      "Training with learning_rate=3.158114e-05, regularization_strength=5.000000e+06\n",
      "\t👉 Train accuracy: 0.2857, Validation accuracy: 0.2880\n",
      "Training with learning_rate=6.299605e-05, regularization_strength=2.500000e+02\n",
      "\t👉 Train accuracy: 0.2667, Validation accuracy: 0.2630\n",
      "Training with learning_rate=6.299605e-05, regularization_strength=7.513326e+02\n",
      "\t👉 Train accuracy: 0.2843, Validation accuracy: 0.2700\n",
      "Training with learning_rate=6.299605e-05, regularization_strength=2.258003e+03\n",
      "\t👉 Train accuracy: 0.3021, Validation accuracy: 0.3100\n",
      "Training with learning_rate=6.299605e-05, regularization_strength=6.786044e+03\n",
      "\t👉 Train accuracy: 0.3070, Validation accuracy: 0.2920\n",
      "Training with learning_rate=6.299605e-05, regularization_strength=2.039430e+04\n",
      "\t👉 Train accuracy: 0.2900, Validation accuracy: 0.3160\n",
      "Training with learning_rate=6.299605e-05, regularization_strength=6.129162e+04\n",
      "\t👉 Train accuracy: 0.3125, Validation accuracy: 0.2740\n",
      "Training with learning_rate=6.299605e-05, regularization_strength=1.842016e+05\n",
      "\t👉 Train accuracy: 0.3243, Validation accuracy: 0.3290\n",
      "Training with learning_rate=6.299605e-05, regularization_strength=5.535866e+05\n",
      "\t👉 Train accuracy: 0.2545, Validation accuracy: 0.2540\n",
      "Training with learning_rate=6.299605e-05, regularization_strength=1.663711e+06\n",
      "\t👉 Train accuracy: 0.2401, Validation accuracy: 0.2340\n",
      "Training with learning_rate=6.299605e-05, regularization_strength=5.000000e+06\n",
      "\t👉 Train accuracy: 0.2822, Validation accuracy: 0.2670\n",
      "Training with learning_rate=1.256605e-04, regularization_strength=2.500000e+02\n",
      "\t👉 Train accuracy: 0.3102, Validation accuracy: 0.2840\n",
      "Training with learning_rate=1.256605e-04, regularization_strength=7.513326e+02\n",
      "\t👉 Train accuracy: 0.2979, Validation accuracy: 0.3060\n",
      "Training with learning_rate=1.256605e-04, regularization_strength=2.258003e+03\n",
      "\t👉 Train accuracy: 0.2936, Validation accuracy: 0.2860\n",
      "Training with learning_rate=1.256605e-04, regularization_strength=6.786044e+03\n",
      "\t👉 Train accuracy: 0.2969, Validation accuracy: 0.2860\n",
      "Training with learning_rate=1.256605e-04, regularization_strength=2.039430e+04\n",
      "\t👉 Train accuracy: 0.2784, Validation accuracy: 0.2690\n",
      "Training with learning_rate=1.256605e-04, regularization_strength=6.129162e+04\n",
      "\t👉 Train accuracy: 0.2751, Validation accuracy: 0.2650\n",
      "Training with learning_rate=1.256605e-04, regularization_strength=1.842016e+05\n",
      "\t👉 Train accuracy: 0.2868, Validation accuracy: 0.3160\n",
      "Training with learning_rate=1.256605e-04, regularization_strength=5.535866e+05\n",
      "\t👉 Train accuracy: 0.2934, Validation accuracy: 0.2770\n",
      "Training with learning_rate=1.256605e-04, regularization_strength=1.663711e+06\n",
      "\t👉 Train accuracy: 0.3338, Validation accuracy: 0.3180\n",
      "Training with learning_rate=1.256605e-04, regularization_strength=5.000000e+06\n",
      "\t👉 Train accuracy: 0.2734, Validation accuracy: 0.2730\n",
      "Training with learning_rate=2.506597e-04, regularization_strength=2.500000e+02\n"
     ]
    },
    {
     "name": "stderr",
     "output_type": "stream",
     "text": [
      "/Users/jleem/Gaebal/@AI/cs231n/assignments/assignment1/cs231n/classifiers/softmax.py:115: RuntimeWarning: overflow encountered in exp\n",
      "  scores_exp = np.exp(scores)\n",
      "/Users/jleem/Gaebal/@AI/cs231n/assignments/assignment1/cs231n/classifiers/softmax.py:132: RuntimeWarning: invalid value encountered in true_divide\n",
      "  d_scores += d_LSE[:, np.newaxis] * (scores_exp / scores_exp_sum[:, np.newaxis])\n"
     ]
    },
    {
     "name": "stdout",
     "output_type": "stream",
     "text": [
      "\t👉 Train accuracy: 0.1003, Validation accuracy: 0.0870\n",
      "Training with learning_rate=2.506597e-04, regularization_strength=7.513326e+02\n",
      "\t👉 Train accuracy: 0.1003, Validation accuracy: 0.0870\n",
      "Training with learning_rate=2.506597e-04, regularization_strength=2.258003e+03\n",
      "\t👉 Train accuracy: 0.1003, Validation accuracy: 0.0870\n",
      "Training with learning_rate=2.506597e-04, regularization_strength=6.786044e+03\n",
      "\t👉 Train accuracy: 0.1003, Validation accuracy: 0.0870\n",
      "Training with learning_rate=2.506597e-04, regularization_strength=2.039430e+04\n",
      "\t👉 Train accuracy: 0.1003, Validation accuracy: 0.0870\n",
      "Training with learning_rate=2.506597e-04, regularization_strength=6.129162e+04\n",
      "\t👉 Train accuracy: 0.1003, Validation accuracy: 0.0870\n",
      "Training with learning_rate=2.506597e-04, regularization_strength=1.842016e+05\n",
      "\t👉 Train accuracy: 0.1003, Validation accuracy: 0.0870\n",
      "Training with learning_rate=2.506597e-04, regularization_strength=5.535866e+05\n",
      "\t👉 Train accuracy: 0.1003, Validation accuracy: 0.0870\n",
      "Training with learning_rate=2.506597e-04, regularization_strength=1.663711e+06\n",
      "\t👉 Train accuracy: 0.1003, Validation accuracy: 0.0870\n",
      "Training with learning_rate=2.506597e-04, regularization_strength=5.000000e+06\n",
      "\t👉 Train accuracy: 0.1003, Validation accuracy: 0.0870\n",
      "Training with learning_rate=5.000000e-04, regularization_strength=2.500000e+02\n",
      "\t👉 Train accuracy: 0.1003, Validation accuracy: 0.0870\n",
      "Training with learning_rate=5.000000e-04, regularization_strength=7.513326e+02\n",
      "\t👉 Train accuracy: 0.1003, Validation accuracy: 0.0870\n",
      "Training with learning_rate=5.000000e-04, regularization_strength=2.258003e+03\n",
      "\t👉 Train accuracy: 0.1003, Validation accuracy: 0.0870\n",
      "Training with learning_rate=5.000000e-04, regularization_strength=6.786044e+03\n",
      "\t👉 Train accuracy: 0.1003, Validation accuracy: 0.0870\n",
      "Training with learning_rate=5.000000e-04, regularization_strength=2.039430e+04\n",
      "\t👉 Train accuracy: 0.1003, Validation accuracy: 0.0870\n",
      "Training with learning_rate=5.000000e-04, regularization_strength=6.129162e+04\n",
      "\t👉 Train accuracy: 0.1003, Validation accuracy: 0.0870\n",
      "Training with learning_rate=5.000000e-04, regularization_strength=1.842016e+05\n",
      "\t👉 Train accuracy: 0.1003, Validation accuracy: 0.0870\n",
      "Training with learning_rate=5.000000e-04, regularization_strength=5.535866e+05\n",
      "\t👉 Train accuracy: 0.1003, Validation accuracy: 0.0870\n",
      "Training with learning_rate=5.000000e-04, regularization_strength=1.663711e+06\n",
      "\t👉 Train accuracy: 0.1003, Validation accuracy: 0.0870\n",
      "Training with learning_rate=5.000000e-04, regularization_strength=5.000000e+06\n",
      "\t👉 Train accuracy: 0.1003, Validation accuracy: 0.0870\n"
     ]
    }
   ],
   "source": [
    "# Use the validation set to tune hyperparameters (regularization strength and\n",
    "# learning rate). You should experiment with different ranges for the learning\n",
    "# rates and regularization strengths; if you are careful you should be able to\n",
    "# get a classification accuracy of over 0.35 on the validation set.\n",
    "\n",
    "from cs231n.classifiers import Softmax\n",
    "results = {}\n",
    "best_val = -1\n",
    "best_softmax = None\n",
    "\n",
    "################################################################################\n",
    "# TODO:                                                                        #\n",
    "# Use the validation set to set the learning rate and regularization strength. #\n",
    "# This should be identical to the validation that you did for the SVM; save    #\n",
    "# the best trained softmax classifer in best_softmax.                          #\n",
    "################################################################################\n",
    "\n",
    "# Provided as a reference. You may or may not want to change these hyperparameters\n",
    "learning_rates = [1e-6, 5e-4]\n",
    "regularization_strengths = [2.5e2, 5e6]\n",
    "\n",
    "# *****START OF YOUR CODE (DO NOT DELETE/MODIFY THIS LINE)*****\n",
    "\n",
    "import itertools\n",
    "\n",
    "num_iters = 500\n",
    "batch_size = 200\n",
    "\n",
    "learning_rates_it = np.logspace(*np.log10(learning_rates), 10)\n",
    "regularization_strengths_it = np.logspace(*np.log10(regularization_strengths), 10)\n",
    "params_it = itertools.product(learning_rates_it, regularization_strengths_it)\n",
    "\n",
    "best_softmax = None\n",
    "best_accuracy = -1\n",
    "\n",
    "for params_tuple in params_it:\n",
    "    (learning_rate, regularization_strength) = params_tuple\n",
    "    softmax = Softmax()\n",
    "    \n",
    "    print('Training with learning_rate=%e, regularization_strength=%e' % (learning_rate, regularization_strength))\n",
    "    softmax.train(\n",
    "        X = X_train,\n",
    "        y = y_train,\n",
    "        learning_rate=learning_rate,\n",
    "        reg=regularization_strength,\n",
    "        num_iters=num_iters,\n",
    "        batch_size=batch_size,\n",
    "    )\n",
    "    y_train_pred = softmax.predict(X_train)\n",
    "    train_accuracy = np.mean(y_train == y_train_pred)\n",
    "    y_val_pred = softmax.predict(X_val)\n",
    "    val_accuracy = np.mean(y_val == y_val_pred)\n",
    "    results[params_tuple] = (train_accuracy, val_accuracy)\n",
    "    print('\\t👉 Train accuracy: %.4f, Validation accuracy: %.4f' % (train_accuracy, val_accuracy))\n",
    "    \n",
    "    if val_accuracy > best_accuracy:\n",
    "        best_accuracy = val_accuracy\n",
    "        best_softmax = softmax\n",
    "\n",
    "# *****END OF YOUR CODE (DO NOT DELETE/MODIFY THIS LINE)*****\n",
    "   "
   ]
  },
  {
   "cell_type": "code",
   "outputs": [
    {
     "name": "stdout",
     "output_type": "stream",
     "text": [
      "lr 1.000000e-06 reg 2.500000e+02 train accuracy: 0.296837 val accuracy: 0.296000\n",
      "lr 1.000000e-06 reg 7.513326e+02 train accuracy: 0.298653 val accuracy: 0.307000\n",
      "lr 1.000000e-06 reg 2.258003e+03 train accuracy: 0.292122 val accuracy: 0.271000\n",
      "lr 1.000000e-06 reg 6.786044e+03 train accuracy: 0.291510 val accuracy: 0.309000\n",
      "lr 1.000000e-06 reg 2.039430e+04 train accuracy: 0.293898 val accuracy: 0.288000\n",
      "lr 1.000000e-06 reg 6.129162e+04 train accuracy: 0.296673 val accuracy: 0.296000\n",
      "lr 1.000000e-06 reg 1.842016e+05 train accuracy: 0.302837 val accuracy: 0.312000\n",
      "lr 1.000000e-06 reg 5.535866e+05 train accuracy: 0.298673 val accuracy: 0.296000\n",
      "lr 1.000000e-06 reg 1.663711e+06 train accuracy: 0.299633 val accuracy: 0.303000\n",
      "lr 1.000000e-06 reg 5.000000e+06 train accuracy: 0.302061 val accuracy: 0.302000\n",
      "lr 1.994737e-06 reg 2.500000e+02 train accuracy: 0.328224 val accuracy: 0.315000\n",
      "lr 1.994737e-06 reg 7.513326e+02 train accuracy: 0.330571 val accuracy: 0.334000\n",
      "lr 1.994737e-06 reg 2.258003e+03 train accuracy: 0.328082 val accuracy: 0.322000\n",
      "lr 1.994737e-06 reg 6.786044e+03 train accuracy: 0.329816 val accuracy: 0.320000\n",
      "lr 1.994737e-06 reg 2.039430e+04 train accuracy: 0.328980 val accuracy: 0.340000\n",
      "lr 1.994737e-06 reg 6.129162e+04 train accuracy: 0.332816 val accuracy: 0.312000\n",
      "lr 1.994737e-06 reg 1.842016e+05 train accuracy: 0.319878 val accuracy: 0.320000\n",
      "lr 1.994737e-06 reg 5.535866e+05 train accuracy: 0.335245 val accuracy: 0.311000\n",
      "lr 1.994737e-06 reg 1.663711e+06 train accuracy: 0.323510 val accuracy: 0.324000\n",
      "lr 1.994737e-06 reg 5.000000e+06 train accuracy: 0.322122 val accuracy: 0.311000\n",
      "lr 3.978974e-06 reg 2.500000e+02 train accuracy: 0.349959 val accuracy: 0.338000\n",
      "lr 3.978974e-06 reg 7.513326e+02 train accuracy: 0.342449 val accuracy: 0.324000\n",
      "lr 3.978974e-06 reg 2.258003e+03 train accuracy: 0.354531 val accuracy: 0.346000\n",
      "lr 3.978974e-06 reg 6.786044e+03 train accuracy: 0.344898 val accuracy: 0.355000\n",
      "lr 3.978974e-06 reg 2.039430e+04 train accuracy: 0.359429 val accuracy: 0.364000\n",
      "lr 3.978974e-06 reg 6.129162e+04 train accuracy: 0.347082 val accuracy: 0.325000\n",
      "lr 3.978974e-06 reg 1.842016e+05 train accuracy: 0.354837 val accuracy: 0.339000\n",
      "lr 3.978974e-06 reg 5.535866e+05 train accuracy: 0.340939 val accuracy: 0.342000\n",
      "lr 3.978974e-06 reg 1.663711e+06 train accuracy: 0.347347 val accuracy: 0.315000\n",
      "lr 3.978974e-06 reg 5.000000e+06 train accuracy: 0.345061 val accuracy: 0.331000\n",
      "lr 7.937005e-06 reg 2.500000e+02 train accuracy: 0.321776 val accuracy: 0.316000\n",
      "lr 7.937005e-06 reg 7.513326e+02 train accuracy: 0.336633 val accuracy: 0.332000\n",
      "lr 7.937005e-06 reg 2.258003e+03 train accuracy: 0.306224 val accuracy: 0.302000\n",
      "lr 7.937005e-06 reg 6.786044e+03 train accuracy: 0.326061 val accuracy: 0.339000\n",
      "lr 7.937005e-06 reg 2.039430e+04 train accuracy: 0.336918 val accuracy: 0.303000\n",
      "lr 7.937005e-06 reg 6.129162e+04 train accuracy: 0.350327 val accuracy: 0.334000\n",
      "lr 7.937005e-06 reg 1.842016e+05 train accuracy: 0.333653 val accuracy: 0.342000\n",
      "lr 7.937005e-06 reg 5.535866e+05 train accuracy: 0.327102 val accuracy: 0.341000\n",
      "lr 7.937005e-06 reg 1.663711e+06 train accuracy: 0.317694 val accuracy: 0.320000\n",
      "lr 7.937005e-06 reg 5.000000e+06 train accuracy: 0.330878 val accuracy: 0.307000\n",
      "lr 1.583223e-05 reg 2.500000e+02 train accuracy: 0.262306 val accuracy: 0.250000\n",
      "lr 1.583223e-05 reg 7.513326e+02 train accuracy: 0.281449 val accuracy: 0.300000\n",
      "lr 1.583223e-05 reg 2.258003e+03 train accuracy: 0.266102 val accuracy: 0.264000\n",
      "lr 1.583223e-05 reg 6.786044e+03 train accuracy: 0.331163 val accuracy: 0.312000\n",
      "lr 1.583223e-05 reg 2.039430e+04 train accuracy: 0.270510 val accuracy: 0.278000\n",
      "lr 1.583223e-05 reg 6.129162e+04 train accuracy: 0.316490 val accuracy: 0.304000\n",
      "lr 1.583223e-05 reg 1.842016e+05 train accuracy: 0.295735 val accuracy: 0.296000\n",
      "lr 1.583223e-05 reg 5.535866e+05 train accuracy: 0.320714 val accuracy: 0.308000\n",
      "lr 1.583223e-05 reg 1.663711e+06 train accuracy: 0.298531 val accuracy: 0.312000\n",
      "lr 1.583223e-05 reg 5.000000e+06 train accuracy: 0.278286 val accuracy: 0.288000\n",
      "lr 3.158114e-05 reg 2.500000e+02 train accuracy: 0.254490 val accuracy: 0.247000\n",
      "lr 3.158114e-05 reg 7.513326e+02 train accuracy: 0.327837 val accuracy: 0.341000\n",
      "lr 3.158114e-05 reg 2.258003e+03 train accuracy: 0.332061 val accuracy: 0.327000\n",
      "lr 3.158114e-05 reg 6.786044e+03 train accuracy: 0.312061 val accuracy: 0.312000\n",
      "lr 3.158114e-05 reg 2.039430e+04 train accuracy: 0.276000 val accuracy: 0.278000\n",
      "lr 3.158114e-05 reg 6.129162e+04 train accuracy: 0.311224 val accuracy: 0.319000\n",
      "lr 3.158114e-05 reg 1.842016e+05 train accuracy: 0.282306 val accuracy: 0.289000\n",
      "lr 3.158114e-05 reg 5.535866e+05 train accuracy: 0.247000 val accuracy: 0.243000\n",
      "lr 3.158114e-05 reg 1.663711e+06 train accuracy: 0.258980 val accuracy: 0.252000\n",
      "lr 3.158114e-05 reg 5.000000e+06 train accuracy: 0.285694 val accuracy: 0.288000\n",
      "lr 6.299605e-05 reg 2.500000e+02 train accuracy: 0.266673 val accuracy: 0.263000\n",
      "lr 6.299605e-05 reg 7.513326e+02 train accuracy: 0.284347 val accuracy: 0.270000\n",
      "lr 6.299605e-05 reg 2.258003e+03 train accuracy: 0.302122 val accuracy: 0.310000\n",
      "lr 6.299605e-05 reg 6.786044e+03 train accuracy: 0.306980 val accuracy: 0.292000\n",
      "lr 6.299605e-05 reg 2.039430e+04 train accuracy: 0.289980 val accuracy: 0.316000\n",
      "lr 6.299605e-05 reg 6.129162e+04 train accuracy: 0.312490 val accuracy: 0.274000\n",
      "lr 6.299605e-05 reg 1.842016e+05 train accuracy: 0.324265 val accuracy: 0.329000\n",
      "lr 6.299605e-05 reg 5.535866e+05 train accuracy: 0.254469 val accuracy: 0.254000\n",
      "lr 6.299605e-05 reg 1.663711e+06 train accuracy: 0.240061 val accuracy: 0.234000\n",
      "lr 6.299605e-05 reg 5.000000e+06 train accuracy: 0.282245 val accuracy: 0.267000\n",
      "lr 1.256605e-04 reg 2.500000e+02 train accuracy: 0.310224 val accuracy: 0.284000\n",
      "lr 1.256605e-04 reg 7.513326e+02 train accuracy: 0.297878 val accuracy: 0.306000\n",
      "lr 1.256605e-04 reg 2.258003e+03 train accuracy: 0.293571 val accuracy: 0.286000\n",
      "lr 1.256605e-04 reg 6.786044e+03 train accuracy: 0.296939 val accuracy: 0.286000\n",
      "lr 1.256605e-04 reg 2.039430e+04 train accuracy: 0.278367 val accuracy: 0.269000\n",
      "lr 1.256605e-04 reg 6.129162e+04 train accuracy: 0.275122 val accuracy: 0.265000\n",
      "lr 1.256605e-04 reg 1.842016e+05 train accuracy: 0.286837 val accuracy: 0.316000\n",
      "lr 1.256605e-04 reg 5.535866e+05 train accuracy: 0.293449 val accuracy: 0.277000\n",
      "lr 1.256605e-04 reg 1.663711e+06 train accuracy: 0.333837 val accuracy: 0.318000\n",
      "lr 1.256605e-04 reg 5.000000e+06 train accuracy: 0.273388 val accuracy: 0.273000\n",
      "lr 2.506597e-04 reg 2.500000e+02 train accuracy: 0.100265 val accuracy: 0.087000\n",
      "lr 2.506597e-04 reg 7.513326e+02 train accuracy: 0.100265 val accuracy: 0.087000\n",
      "lr 2.506597e-04 reg 2.258003e+03 train accuracy: 0.100265 val accuracy: 0.087000\n",
      "lr 2.506597e-04 reg 6.786044e+03 train accuracy: 0.100265 val accuracy: 0.087000\n",
      "lr 2.506597e-04 reg 2.039430e+04 train accuracy: 0.100265 val accuracy: 0.087000\n",
      "lr 2.506597e-04 reg 6.129162e+04 train accuracy: 0.100265 val accuracy: 0.087000\n",
      "lr 2.506597e-04 reg 1.842016e+05 train accuracy: 0.100265 val accuracy: 0.087000\n",
      "lr 2.506597e-04 reg 5.535866e+05 train accuracy: 0.100265 val accuracy: 0.087000\n",
      "lr 2.506597e-04 reg 1.663711e+06 train accuracy: 0.100265 val accuracy: 0.087000\n",
      "lr 2.506597e-04 reg 5.000000e+06 train accuracy: 0.100265 val accuracy: 0.087000\n",
      "lr 5.000000e-04 reg 2.500000e+02 train accuracy: 0.100265 val accuracy: 0.087000\n",
      "lr 5.000000e-04 reg 7.513326e+02 train accuracy: 0.100265 val accuracy: 0.087000\n",
      "lr 5.000000e-04 reg 2.258003e+03 train accuracy: 0.100265 val accuracy: 0.087000\n",
      "lr 5.000000e-04 reg 6.786044e+03 train accuracy: 0.100265 val accuracy: 0.087000\n",
      "lr 5.000000e-04 reg 2.039430e+04 train accuracy: 0.100265 val accuracy: 0.087000\n",
      "lr 5.000000e-04 reg 6.129162e+04 train accuracy: 0.100265 val accuracy: 0.087000\n",
      "lr 5.000000e-04 reg 1.842016e+05 train accuracy: 0.100265 val accuracy: 0.087000\n",
      "lr 5.000000e-04 reg 5.535866e+05 train accuracy: 0.100265 val accuracy: 0.087000\n",
      "lr 5.000000e-04 reg 1.663711e+06 train accuracy: 0.100265 val accuracy: 0.087000\n",
      "lr 5.000000e-04 reg 5.000000e+06 train accuracy: 0.100265 val accuracy: 0.087000\n",
      "best validation accuracy achieved during cross-validation: 0.364000\n"
     ]
    }
   ],
   "source": [
    "best_val = best_accuracy \n",
    "# Print out results.\n",
    "for lr, reg in sorted(results):\n",
    "    train_accuracy, val_accuracy = results[(lr, reg)]\n",
    "    print('lr %e reg %e train accuracy: %f val accuracy: %f' % (\n",
    "                lr, reg, train_accuracy, val_accuracy))\n",
    "    \n",
    "print('best validation accuracy achieved during cross-validation: %f' % best_val)"
   ],
   "metadata": {
    "tags": [
     "code"
    ],
    "test": "tuning",
    "ExecuteTime": {
     "end_time": "2024-03-14T13:19:25.119083Z",
     "start_time": "2024-03-14T13:19:25.071781Z"
    }
   },
   "id": "a3453536",
   "execution_count": 56
  },
  {
   "cell_type": "code",
   "outputs": [
    {
     "data": {
      "text/plain": "<Figure size 432x288 with 4 Axes>",
      "image/png": "[encoded data removed]"
     },
     "metadata": {},
     "output_type": "display_data"
    }
   ],
   "source": [
    "# Visualize the cross-validation results\n",
    "import math\n",
    "import pdb\n",
    "\n",
    "# pdb.set_trace()\n",
    "\n",
    "x_scatter = [math.log10(x[0]) for x in results]\n",
    "y_scatter = [math.log10(x[1]) for x in results]\n",
    "\n",
    "# set background color to white\n",
    "plt.rcParams['figure.facecolor'] = 'white'\n",
    "\n",
    "# plot training accuracy\n",
    "marker_size = 100\n",
    "colors = [results[x][0] for x in results]\n",
    "plt.subplot(2, 1, 1)\n",
    "plt.tight_layout(pad=3)\n",
    "plt.scatter(x_scatter, y_scatter, marker_size, c=colors, cmap=plt.cm.coolwarm)\n",
    "plt.colorbar()\n",
    "plt.xlabel('log learning rate')\n",
    "plt.ylabel('log regularization strength')\n",
    "plt.title('CIFAR-10 training accuracy')\n",
    "\n",
    "# plot validation accuracy\n",
    "colors = [results[x][1] for x in results]  # default size of markers is 20\n",
    "plt.subplot(2, 1, 2)\n",
    "plt.scatter(x_scatter, y_scatter, marker_size, c=colors, cmap=plt.cm.coolwarm)\n",
    "plt.colorbar()\n",
    "plt.xlabel('log learning rate')\n",
    "plt.ylabel('log regularization strength')\n",
    "plt.title('CIFAR-10 validation accuracy')\n",
    "plt.show()"
   ],
   "metadata": {
    "collapsed": false,
    "ExecuteTime": {
     "end_time": "2024-03-14T13:19:35.538387Z",
     "start_time": "2024-03-14T13:19:35.016787Z"
    }
   },
   "id": "1b02ce6ffa85f7cd",
   "execution_count": 58
  },
  {
   "cell_type": "code",
   "execution_count": 59,
   "id": "8a1f9db3",
   "metadata": {
    "test": "test",
    "ExecuteTime": {
     "end_time": "2024-03-14T13:19:50.371503Z",
     "start_time": "2024-03-14T13:19:50.289152Z"
    }
   },
   "outputs": [
    {
     "name": "stdout",
     "output_type": "stream",
     "text": [
      "softmax on raw pixels final test set accuracy: 0.333000\n"
     ]
    }
   ],
   "source": [
    "# evaluate on test set\n",
    "# Evaluate the best softmax on test set\n",
    "y_test_pred = best_softmax.predict(X_test)\n",
    "test_accuracy = np.mean(y_test == y_test_pred)\n",
    "print('softmax on raw pixels final test set accuracy: %f' % (test_accuracy, ))"
   ]
  },
  {
   "cell_type": "markdown",
   "id": "86b9b65c",
   "metadata": {
    "tags": [
     "pdf-inline"
    ]
   },
   "source": [
    "**Inline Question 2** - *True or False*\n",
    "\n",
    "Suppose the overall training loss is defined as the sum of the per-datapoint loss over all training examples. It is possible to add a new datapoint to a training set that would leave the SVM loss unchanged, but this is not the case with the Softmax classifier loss.\n",
    "\n",
    "$\\color{blue}{\\textit Your Answer:}$\n",
    "\n",
    "\n",
    "$\\color{blue}{\\textit Your Explanation:}$\n",
    "\n",
    "True.\n",
    "In SVM, newly added data point will not change the loss if it is correctly classified and its margin is greater than 1.\n",
    "In Softmax, newly added data point will always change the loss, because it will change the probabilities of all other classes."
   ]
  },
  {
   "cell_type": "code",
   "execution_count": 60,
   "id": "009f08b9",
   "metadata": {
    "ExecuteTime": {
     "end_time": "2024-03-14T13:19:54.486602Z",
     "start_time": "2024-03-14T13:19:54.139654Z"
    }
   },
   "outputs": [
    {
     "data": {
      "text/plain": "<Figure size 432x288 with 10 Axes>",
      "image/png": "[encoded data removed]"
     },
     "metadata": {},
     "output_type": "display_data"
    }
   ],
   "source": [
    "# Visualize the learned weights for each class\n",
    "w = best_softmax.W[:-1,:] # strip out the bias\n",
    "w = w.reshape(32, 32, 3, 10)\n",
    "\n",
    "w_min, w_max = np.min(w), np.max(w)\n",
    "\n",
    "classes = ['plane', 'car', 'bird', 'cat', 'deer', 'dog', 'frog', 'horse', 'ship', 'truck']\n",
    "for i in range(10):\n",
    "    plt.subplot(2, 5, i + 1)\n",
    "    \n",
    "    # Rescale the weights to be between 0 and 255\n",
    "    wimg = 255.0 * (w[:, :, :, i].squeeze() - w_min) / (w_max - w_min)\n",
    "    plt.imshow(wimg.astype('uint8'))\n",
    "    plt.axis('off')\n",
    "    plt.title(classes[i])"
   ]
  }
 ],
 "metadata": {
  "kernelspec": {
   "name": "python3",
   "language": "python",
   "display_name": "Python 3"
  }
 },
 "nbformat": 4,
 "nbformat_minor": 5
}
